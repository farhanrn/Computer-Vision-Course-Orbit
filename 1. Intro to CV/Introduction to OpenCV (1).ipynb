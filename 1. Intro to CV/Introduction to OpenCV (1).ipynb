{
 "cells": [
  {
   "cell_type": "markdown",
   "id": "1b1ebbaa",
   "metadata": {},
   "source": [
    "## History\n",
    "- Dirilis pertama kali oleh Intel di tahun 1999\n",
    "- Versi built-in library itu dirilis tahun 2006 (only C/C++ support)\n",
    "- Integrasikan python kedalam OpenCV tahun 2009\n",
    "- OpenCV merilis DNN module dan Javascript (OpenCV.js) tahun 2016\n",
    "- Opencv 4.6 release juni 2022"
   ]
  },
  {
   "cell_type": "markdown",
   "id": "5583abae",
   "metadata": {},
   "source": [
    "## Support \n",
    "- Programming Language : C++, Python, Java, Matlab, etc\n",
    "- Operting system: Windows,Linux, Android, Mac OS\n",
    "- Hardware: capable with CUDA (NVIDIA)"
   ]
  },
  {
   "cell_type": "markdown",
   "id": "e5feb6cc",
   "metadata": {},
   "source": [
    "## Citra DIgital\n",
    "- Umumnya terdiri dari tiga channel : R, G, B\n",
    "- tiap channel memiliki lebar dan tinggi yang sama\n",
    "- tiap pixel/titik memiliki nilai 8 bit (0-255)"
   ]
  },
  {
   "cell_type": "code",
   "execution_count": 3,
   "id": "a63aaa8e",
   "metadata": {},
   "outputs": [
    {
     "name": "stdout",
     "output_type": "stream",
     "text": [
      "Requirement already satisfied: opencv-python in c:\\users\\asus\\anaconda3\\lib\\site-packages (4.6.0.66)\n",
      "Requirement already satisfied: numpy>=1.19.3 in c:\\users\\asus\\anaconda3\\lib\\site-packages (from opencv-python) (1.21.5)\n"
     ]
    }
   ],
   "source": [
    "!pip install opencv-python"
   ]
  },
  {
   "cell_type": "code",
   "execution_count": 2,
   "id": "3e0e15cb",
   "metadata": {},
   "outputs": [],
   "source": [
    "import cv2 as cv"
   ]
  },
  {
   "cell_type": "code",
   "execution_count": 3,
   "id": "678be680",
   "metadata": {},
   "outputs": [
    {
     "ename": "NameError",
     "evalue": "name 'cv2' is not defined",
     "output_type": "error",
     "traceback": [
      "\u001b[1;31m---------------------------------------------------------------------------\u001b[0m",
      "\u001b[1;31mNameError\u001b[0m                                 Traceback (most recent call last)",
      "Input \u001b[1;32mIn [3]\u001b[0m, in \u001b[0;36m<cell line: 1>\u001b[1;34m()\u001b[0m\n\u001b[1;32m----> 1\u001b[0m \u001b[43mcv2\u001b[49m\u001b[38;5;241m.\u001b[39m__version__\n",
      "\u001b[1;31mNameError\u001b[0m: name 'cv2' is not defined"
     ]
    }
   ],
   "source": [
    "cv2.__version__"
   ]
  },
  {
   "cell_type": "code",
   "execution_count": 4,
   "id": "1aa45301",
   "metadata": {},
   "outputs": [
    {
     "ename": "IndentationError",
     "evalue": "unexpected indent (1848354814.py, line 18)",
     "output_type": "error",
     "traceback": [
      "\u001b[1;36m  Input \u001b[1;32mIn [4]\u001b[1;36m\u001b[0m\n\u001b[1;33m    if cv.waitKey(1) == ord('q'):\u001b[0m\n\u001b[1;37m    ^\u001b[0m\n\u001b[1;31mIndentationError\u001b[0m\u001b[1;31m:\u001b[0m unexpected indent\n"
     ]
    }
   ],
   "source": [
    "cap = cv.VideoCapture(0)\n",
    "if not cap.isOpened():\n",
    "    print(\"Cannot open camera\")\n",
    "    exit()\n",
    "while True:\n",
    "    # Capture frame-by-frame\n",
    "    ret, frame = cap.read()\n",
    "    # if frame is read correctly ret is True\n",
    "    if not ret:\n",
    "        print(\"Can't receive frame (stream end?). Exiting ...\")\n",
    "        break\n",
    "    # Our operations on the frame come here\n",
    "    gray = cv.cvtColor(frame, cv.COLOR_BGR2GRAY)\n",
    "    # Display the resulting frame\n",
    "    cv.imshow('frame color', frame)\n",
    "    cv.imsh\n",
    "ow('frame gray', gray)\n",
    "    if cv.waitKey(1) == ord('q'):\n",
    "        break\n",
    "# When everything done, release the capture\n",
    "cap.release()\n",
    "cv.destroyAllWindows()\n"
   ]
  },
  {
   "cell_type": "code",
   "execution_count": null,
   "id": "45bfdb0c",
   "metadata": {},
   "outputs": [],
   "source": []
  },
  {
   "cell_type": "code",
   "execution_count": 5,
   "id": "b37aff45",
   "metadata": {},
   "outputs": [
    {
     "name": "stdout",
     "output_type": "stream",
     "text": [
      "Cannot open camera\n",
      "Can't receive frame (stream end?). Exiting ...\n"
     ]
    }
   ],
   "source": [
    "import numpy as np\n",
    "import cv2 as cv\n",
    "import cv2\n",
    "smile_model = cv2.CascadeClassifier(\"haarcascade_smile.xml\")\n",
    "face_model = cv2.CascadeClassifier(\"haarcascade_smile.xml\")\n",
    "\n",
    "cap = cv.VideoCapture(\"top10.mp4\")\n",
    "if not cap.isOpened():\n",
    "    print(\"Cannot open camera\")\n",
    "    exit()\n",
    "while True:\n",
    "    # Capture frame-by-frame\n",
    "    ret, frame = cap.read()\n",
    "    # if frame is read correctly ret is True\n",
    "    if not ret:\n",
    "        print(\"Can't receive frame (stream end?). Exiting ...\")\n",
    "        break\n",
    "    # Our operations on the frame come here\n",
    "    gray = cv.cvtColor(frame, cv.COLOR_BGR2GRAY)\n",
    "    \n",
    "    smile = smile_model.detectMultiScale(gray, scaleFactor=1.05, minNeighbors=20)\n",
    "#     faces = face_model.detectMultiScale(gray, scaleFactor=2, minNeighbors=1)\n",
    "    \n",
    "    for (x, y, w, h) in smile:\n",
    "        cv2.rectangle(frame, (x, y), (x+w, y+h), (0, 255, 0), thickness=2)\n",
    "#     for (x, y, w, h) in faces:\n",
    "#         cv2.rectangle(frame, (x, y), (x+w, y+h), (0, 0, 255), thickness=2)\n",
    "\n",
    "    \n",
    "    # Display the resulting frame\n",
    "    cv.imshow('frame color', frame)\n",
    "#     cv.imshow('frame gray', gray)\n",
    "    if cv.waitKey(1) == ord('q'):\n",
    "        break\n",
    "# When everything done, release the capture\n",
    "cap.release()\n",
    "cv.destroyAllWindows()"
   ]
  },
  {
   "cell_type": "markdown",
   "id": "5bd1166d",
   "metadata": {},
   "source": [
    "## Deteksi Senyum"
   ]
  },
  {
   "cell_type": "code",
   "execution_count": 3,
   "id": "3929c0d6",
   "metadata": {},
   "outputs": [],
   "source": [
    "import cv2\n",
    "smile_model = cv2.CascadeClassifier(\"haarcascade_smile.xml\")"
   ]
  },
  {
   "cell_type": "code",
   "execution_count": 4,
   "id": "07ec2eff",
   "metadata": {},
   "outputs": [],
   "source": [
    "#Read Image\n",
    "img = cv2.imread('tawa.jpg')\n",
    "gray_img = cv2.cvtColor(img, cv2.COLOR_BGR2GRAY)"
   ]
  },
  {
   "cell_type": "code",
   "execution_count": 5,
   "id": "96864093",
   "metadata": {},
   "outputs": [
    {
     "data": {
      "text/plain": [
       "(339, 509, 3)"
      ]
     },
     "execution_count": 5,
     "metadata": {},
     "output_type": "execute_result"
    }
   ],
   "source": [
    "img.shape"
   ]
  },
  {
   "cell_type": "code",
   "execution_count": 6,
   "id": "48d61fbe",
   "metadata": {},
   "outputs": [
    {
     "data": {
      "text/plain": [
       "(339, 509)"
      ]
     },
     "execution_count": 6,
     "metadata": {},
     "output_type": "execute_result"
    }
   ],
   "source": [
    "gray_img.shape"
   ]
  },
  {
   "cell_type": "code",
   "execution_count": 7,
   "id": "b898b9a3",
   "metadata": {},
   "outputs": [
    {
     "data": {
      "text/plain": [
       "-1"
      ]
     },
     "execution_count": 7,
     "metadata": {},
     "output_type": "execute_result"
    }
   ],
   "source": [
    "cv2.imshow(\"gray\", gray_img)\n",
    "cv2.waitKey(0)"
   ]
  },
  {
   "cell_type": "code",
   "execution_count": 8,
   "id": "289e1876",
   "metadata": {},
   "outputs": [],
   "source": [
    "smile = smile_model.detectMultiScale(gray_img, scaleFactor=1.05, minNeighbors=100)"
   ]
  },
  {
   "cell_type": "code",
   "execution_count": 9,
   "id": "81024e10",
   "metadata": {},
   "outputs": [
    {
     "data": {
      "text/plain": [
       "-1"
      ]
     },
     "execution_count": 9,
     "metadata": {},
     "output_type": "execute_result"
    }
   ],
   "source": [
    "for (x, y, w, h) in smile:\n",
    "    cv2.rectangle(img, (x, y), (x+w, y+h), (0, 255, 0), thickness=2)\n",
    "  \n",
    "cv2.imshow('Detected faces', img)\n",
    "cv2.waitKey(0)"
   ]
  },
  {
   "cell_type": "code",
   "execution_count": null,
   "id": "1be739e0",
   "metadata": {},
   "outputs": [],
   "source": []
  }
 ],
 "metadata": {
  "kernelspec": {
   "display_name": "Python 3 (ipykernel)",
   "language": "python",
   "name": "python3"
  },
  "language_info": {
   "codemirror_mode": {
    "name": "ipython",
    "version": 3
   },
   "file_extension": ".py",
   "mimetype": "text/x-python",
   "name": "python",
   "nbconvert_exporter": "python",
   "pygments_lexer": "ipython3",
   "version": "3.9.12"
  }
 },
 "nbformat": 4,
 "nbformat_minor": 5
}
